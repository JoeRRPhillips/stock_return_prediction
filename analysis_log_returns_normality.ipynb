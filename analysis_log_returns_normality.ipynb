{
 "cells": [
  {
   "cell_type": "code",
   "execution_count": 1,
   "id": "9f58f717-340c-4f24-924e-39ebb40538ce",
   "metadata": {},
   "outputs": [],
   "source": [
    "import matplotlib.pyplot as plt\n",
    "import numpy as np\n",
    "import pandas as pd\n",
    "import sklearn\n",
    "from scipy import stats"
   ]
  },
  {
   "cell_type": "code",
   "execution_count": 2,
   "id": "9c0d6455-6c74-4191-ac9e-c1b4913a83d9",
   "metadata": {},
   "outputs": [],
   "source": [
    "# Assess correlations across the entire dataset\n",
    "train_df = pd.read_csv(\"data/train_data.csv\")\n",
    "val_df = pd.read_csv(\"data/validation_data.csv\")\n",
    "df = pd.concat([train_df, val_df])"
   ]
  },
  {
   "cell_type": "code",
   "execution_count": 3,
   "id": "dca3a7dc-3e1c-4d2a-b032-09a291f31f7e",
   "metadata": {},
   "outputs": [],
   "source": [
    "# Normalising vs. standardising data\n",
    "# - Standardise if normal distribution\n",
    "# - Log returns are normal\n",
    "# - Returns are not"
   ]
  },
  {
   "cell_type": "markdown",
   "id": "6394ba5f-8b04-4e9c-8ee4-015171e90c33",
   "metadata": {},
   "source": [
    "# Plots"
   ]
  },
  {
   "cell_type": "code",
   "execution_count": 4,
   "id": "bbfaabc6-bc19-4868-82db-4fa1b2a2c495",
   "metadata": {},
   "outputs": [
    {
     "data": {
      "image/png": "[encoded data removed]",
      "text/plain": [
       "<Figure size 432x288 with 1 Axes>"
      ]
     },
     "metadata": {
      "needs_background": "light"
     },
     "output_type": "display_data"
    }
   ],
   "source": [
    "df[\"log_returns_t\"].plot(kind=\"hist\").grid()"
   ]
  },
  {
   "cell_type": "code",
   "execution_count": 5,
   "id": "aafd0551-f9a3-4e0d-8f4d-6c316e56bd2b",
   "metadata": {},
   "outputs": [
    {
     "data": {
      "image/png": "[encoded data removed]",
      "text/plain": [
       "<Figure size 432x288 with 1 Axes>"
      ]
     },
     "metadata": {
      "needs_background": "light"
     },
     "output_type": "display_data"
    }
   ],
   "source": [
    "log_returns = df[\"log_returns_t\"].to_numpy()\n",
    "\n",
    "stats.probplot(log_returns, dist=\"norm\", plot=plt)\n",
    "plt.show()"
   ]
  },
  {
   "cell_type": "markdown",
   "id": "ca0b93bb-e296-4f61-bb75-92936ef17850",
   "metadata": {},
   "source": [
    "# Assessment of normality.\n",
    "Likelihood of tail values is essentially 0:"
   ]
  },
  {
   "cell_type": "code",
   "execution_count": 6,
   "id": "ef1e77c4-175b-4a45-9b1a-4b4bab57611b",
   "metadata": {},
   "outputs": [
    {
     "data": {
      "text/plain": [
       "(-13.187402782547656, 14.647301626142529)"
      ]
     },
     "execution_count": 6,
     "metadata": {},
     "output_type": "execute_result"
    }
   ],
   "source": [
    "# Look at best and worst cases to assess fat tails\n",
    "log_return_min = min(log_returns)\n",
    "log_return_max = max(log_returns)\n",
    "\n",
    "\n",
    "def standardise(x: np.ndarray, data) -> np.ndarray:\n",
    "    return (x - data.mean()) / data.std()\n",
    "\n",
    "# Standardise for inspection\n",
    "log_return_min_standardised = standardise(log_return_min, log_returns)\n",
    "log_return_max_standardised = standardise(log_return_max, log_returns)\n",
    "\n",
    "log_return_min_standardised, log_return_max_standardised"
   ]
  },
  {
   "cell_type": "code",
   "execution_count": 7,
   "id": "e27903f9-aecf-4161-81ea-63134bc85eca",
   "metadata": {},
   "outputs": [
    {
     "data": {
      "text/plain": [
       "(6.876322708358083e-39, 1.031318802396563e-47)"
      ]
     },
     "execution_count": 7,
     "metadata": {},
     "output_type": "execute_result"
    }
   ],
   "source": [
    "stats.norm(0,1).pdf(log_return_min_standardised), stats.norm(0,1).pdf(log_return_max_standardised)"
   ]
  }
 ],
 "metadata": {
  "kernelspec": {
   "display_name": "Python [conda env:stock_return]",
   "language": "python",
   "name": "conda-env-stock_return-py"
  },
  "language_info": {
   "codemirror_mode": {
    "name": "ipython",
    "version": 3
   },
   "file_extension": ".py",
   "mimetype": "text/x-python",
   "name": "python",
   "nbconvert_exporter": "python",
   "pygments_lexer": "ipython3",
   "version": "3.10.4"
  }
 },
 "nbformat": 4,
 "nbformat_minor": 5
}
